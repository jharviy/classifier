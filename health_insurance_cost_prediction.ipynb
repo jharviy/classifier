{
  "cells": [
    {
      "cell_type": "markdown",
      "metadata": {
        "id": "view-in-github",
        "colab_type": "text"
      },
      "source": [
        "<a href=\"https://colab.research.google.com/github/jharviy/fcc_machinelearning/blob/main/health_insurance_cost_prediction.ipynb\" target=\"_parent\"><img src=\"https://colab.research.google.com/assets/colab-badge.svg\" alt=\"Open In Colab\"/></a>"
      ]
    },
    {
      "cell_type": "code",
      "execution_count": null,
      "metadata": {
        "id": "1rRo8oNqZ-Rj"
      },
      "outputs": [],
      "source": [
        "# Import libraries. You may or may not use all of these.\n",
        "!pip install -q git+https://github.com/tensorflow/docs\n",
        "import matplotlib.pyplot as plt\n",
        "import numpy as np\n",
        "import pandas as pd\n",
        "\n",
        "try:\n",
        "  # %tensorflow_version only exists in Colab.\n",
        "  %tensorflow_version 2.x\n",
        "except Exception:\n",
        "  pass\n",
        "import tensorflow as tf\n",
        "\n",
        "from tensorflow import keras\n",
        "from tensorflow.keras import layers\n",
        "\n",
        "import tensorflow_docs as tfdocs\n",
        "import tensorflow_docs.plots\n",
        "import tensorflow_docs.modeling"
      ]
    },
    {
      "cell_type": "code",
      "execution_count": null,
      "metadata": {
        "id": "CiX2FI4gZtTt"
      },
      "outputs": [],
      "source": [
        "# Import data\n",
        "!wget https://cdn.freecodecamp.org/project-data/health-costs/insurance.csv\n",
        "dataset = pd.read_csv('insurance.csv')\n",
        "dataset.tail()"
      ]
    },
    {
      "cell_type": "code",
      "source": [
        "# Categorical values into numeric data\n",
        "\n",
        "# Categorical values are converted into columns, value of the column is 1 if the sample belongs to the category\n",
        "df = pd.get_dummies(dataset,\n",
        "                    columns = [\"region\", \"sex\"],\n",
        "                    prefix = \"\" ,\n",
        "                    prefix_sep = \"\"\n",
        "                    )\n",
        "\n",
        "df[\"smoker\"] = df[\"smoker\"].map({\"no\": 0 ,\"yes\": 1 })\n",
        "df.tail()"
      ],
      "metadata": {
        "id": "4_R8G76fIkQQ"
      },
      "execution_count": null,
      "outputs": []
    },
    {
      "cell_type": "code",
      "source": [
        "# Use 80% of the data as the train_dataset and 20% of the data as the test_dataset\n",
        "train_dataset = df.sample(frac = .8, random_state = 0)\n",
        "test_dataset = df.drop(train_dataset.index)\n",
        "\n",
        "# \"expenses\" columns are to be used as label when training the model\n",
        "train_labels, test_labels = train_dataset.pop(\"expenses\"), test_dataset.pop(\"expenses\")\n"
      ],
      "metadata": {
        "id": "fGrg-_LVJ1XS"
      },
      "execution_count": null,
      "outputs": []
    },
    {
      "cell_type": "code",
      "source": [
        "# Make a model\n",
        "def lin_model(df):\n",
        "  normalizer = tf.keras.layers.Normalization()\n",
        "  normalizer.adapt(df)  # Computes mean and variance of dataset\n",
        "\n",
        "  model = tf.keras.Sequential()\n",
        "  model.add(normalizer)\n",
        "  model.add(layers.Dense(32, activation =\"relu\"))\n",
        "  model.add(layers.Dense(1))\n",
        "\n",
        "  opt = tf.keras.optimizers.Adam(learning_rate=0.1)\n",
        "  model.compile(optimizer = opt,\n",
        "                loss = \"mae\",\n",
        "                metrics =[\"mae\",\"mse\"]\n",
        "                )\n",
        "  return model\n",
        "\n",
        "model = lin_model(train_dataset)\n",
        "model.summary()"
      ],
      "metadata": {
        "id": "Z6xSrKA3Qvhd"
      },
      "execution_count": null,
      "outputs": []
    },
    {
      "cell_type": "code",
      "source": [
        "# Train the model in 100 epochs with validation data as 20% of the train_dataset\n",
        "history = model.fit(train_dataset,\n",
        "                    train_labels,\n",
        "                    epochs = 100,\n",
        "                    validation_split = 0.2,\n",
        "                    verbose = 0\n",
        "                    )"
      ],
      "metadata": {
        "id": "nQSxhrH7axk6"
      },
      "execution_count": null,
      "outputs": []
    },
    {
      "cell_type": "code",
      "source": [
        "# Plot the \"Mean Absolute Error\" for each epoch\n",
        "def plot_loss(history):\n",
        "  plt.plot(history.history['loss'], label='loss')\n",
        "  plt.plot(history.history['val_loss'], label='val_loss')\n",
        "  plt.xlabel('Epoch')\n",
        "  plt.ylabel('Mean Abs Error')\n",
        "  plt.legend()\n",
        "  plt.grid(True)\n",
        "plot_loss(history)"
      ],
      "metadata": {
        "id": "OEL3FL5icP17"
      },
      "execution_count": null,
      "outputs": []
    },
    {
      "cell_type": "code",
      "execution_count": null,
      "metadata": {
        "id": "Xe7RXH3N3CWU"
      },
      "outputs": [],
      "source": [
        "# RUN THIS CELL TO TEST YOUR MODEL. DO NOT MODIFY CONTENTS.\n",
        "# Test model by checking how well the model generalizes using the test set.\n",
        "loss, mae, mse = model.evaluate(test_dataset, test_labels, verbose=2)\n",
        "\n",
        "print(\"Testing set Mean Abs Error: {:5.2f} expenses\".format(mae))\n",
        "\n",
        "if mae < 3500:\n",
        "  print(\"You passed the challenge. Great job!\")\n",
        "else:\n",
        "  print(\"The Mean Abs Error must be less than 3500. Keep trying.\")\n",
        "\n",
        "# Plot predictions.\n",
        "test_predictions = model.predict(test_dataset).flatten()\n",
        "\n",
        "a = plt.axes(aspect='equal')\n",
        "plt.scatter(test_labels, test_predictions)\n",
        "plt.xlabel('True values (expenses)')\n",
        "plt.ylabel('Predictions (expenses)')\n",
        "lims = [0, 50000]\n",
        "plt.xlim(lims)\n",
        "plt.ylim(lims)\n",
        "_ = plt.plot(lims,lims)\n"
      ]
    }
  ],
  "metadata": {
    "colab": {
      "private_outputs": true,
      "provenance": [],
      "include_colab_link": true
    },
    "kernelspec": {
      "display_name": "Python 3",
      "name": "python3"
    }
  },
  "nbformat": 4,
  "nbformat_minor": 0
}