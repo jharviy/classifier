{
  "nbformat": 4,
  "nbformat_minor": 0,
  "metadata": {
    "colab": {
      "provenance": [],
      "authorship_tag": "ABX9TyNJ0xbCPC28FEGgoLWoaNS6",
      "include_colab_link": true
    },
    "kernelspec": {
      "name": "python3",
      "display_name": "Python 3"
    },
    "language_info": {
      "name": "python"
    }
  },
  "cells": [
    {
      "cell_type": "markdown",
      "metadata": {
        "id": "view-in-github",
        "colab_type": "text"
      },
      "source": [
        "<a href=\"https://colab.research.google.com/github/jharviy/fcc_machinelearning/blob/main/sms_spam_classification.ipynb\" target=\"_parent\"><img src=\"https://colab.research.google.com/assets/colab-badge.svg\" alt=\"Open In Colab\"/></a>"
      ]
    },
    {
      "cell_type": "code",
      "execution_count": 1,
      "metadata": {
        "colab": {
          "base_uri": "https://localhost:8080/"
        },
        "id": "bNn71b93_hzY",
        "outputId": "0c09ccd5-c875-4d6f-a115-5b73e29d09bf"
      },
      "outputs": [
        {
          "output_type": "stream",
          "name": "stdout",
          "text": [
            "2.12.0\n"
          ]
        }
      ],
      "source": [
        "# import libraries\n",
        "# try:\n",
        "#   # %tensorflow_version only exists in Colab.\n",
        "#   !pip install tf-nightly\n",
        "# except Exception:\n",
        "#   pass\n",
        "import tensorflow as tf\n",
        "import pandas as pd\n",
        "from tensorflow import keras\n",
        "# !pip install tensorflow-datasets\n",
        "# import tensorflow_datasets as tfds\n",
        "import numpy as np\n",
        "import matplotlib.pyplot as plt\n",
        "\n",
        "print(tf.__version__)"
      ]
    },
    {
      "cell_type": "code",
      "source": [
        "from tensorflow.keras.preprocessing.text import one_hot   #Deprecated"
      ],
      "metadata": {
        "id": "ZS8voe9S_ke9"
      },
      "execution_count": 2,
      "outputs": []
    },
    {
      "cell_type": "code",
      "source": [
        "# get data files\n",
        "!wget https://cdn.freecodecamp.org/project-data/sms/train-data.tsv\n",
        "!wget https://cdn.freecodecamp.org/project-data/sms/valid-data.tsv\n",
        "\n",
        "train_file_path = \"train-data.tsv\"\n",
        "test_file_path = \"valid-data.tsv\""
      ],
      "metadata": {
        "colab": {
          "base_uri": "https://localhost:8080/"
        },
        "id": "tHkntd6T_mQ8",
        "outputId": "c235e743-7510-4dac-d40b-59dc52908eb3"
      },
      "execution_count": 3,
      "outputs": [
        {
          "output_type": "stream",
          "name": "stdout",
          "text": [
            "--2023-07-04 08:28:04--  https://cdn.freecodecamp.org/project-data/sms/train-data.tsv\n",
            "Resolving cdn.freecodecamp.org (cdn.freecodecamp.org)... 104.26.2.33, 172.67.70.149, 104.26.3.33, ...\n",
            "Connecting to cdn.freecodecamp.org (cdn.freecodecamp.org)|104.26.2.33|:443... connected.\n",
            "HTTP request sent, awaiting response... 200 OK\n",
            "Length: 358233 (350K) [text/tab-separated-values]\n",
            "Saving to: ‘train-data.tsv.3’\n",
            "\n",
            "train-data.tsv.3    100%[===================>] 349.84K  --.-KB/s    in 0.04s   \n",
            "\n",
            "2023-07-04 08:28:04 (9.37 MB/s) - ‘train-data.tsv.3’ saved [358233/358233]\n",
            "\n",
            "--2023-07-04 08:28:04--  https://cdn.freecodecamp.org/project-data/sms/valid-data.tsv\n",
            "Resolving cdn.freecodecamp.org (cdn.freecodecamp.org)... 104.26.2.33, 104.26.3.33, 172.67.70.149, ...\n",
            "Connecting to cdn.freecodecamp.org (cdn.freecodecamp.org)|104.26.2.33|:443... connected.\n",
            "HTTP request sent, awaiting response... 200 OK\n",
            "Length: 118774 (116K) [text/tab-separated-values]\n",
            "Saving to: ‘valid-data.tsv.3’\n",
            "\n",
            "valid-data.tsv.3    100%[===================>] 115.99K  --.-KB/s    in 0.02s   \n",
            "\n",
            "2023-07-04 08:28:05 (5.53 MB/s) - ‘valid-data.tsv.3’ saved [118774/118774]\n",
            "\n"
          ]
        }
      ]
    },
    {
      "cell_type": "code",
      "source": [
        "# Read tsv file using read_table, this defaults to separator of ‘\\t’ (tab) then assign column names.\n",
        "columns = [\"label\", \"sms\"]\n",
        "train_df = pd.read_table(train_file_path, names = columns)\n",
        "test_df = pd.read_table(test_file_path, names = columns)\n"
      ],
      "metadata": {
        "id": "P98fcET6_n_l"
      },
      "execution_count": 4,
      "outputs": []
    },
    {
      "cell_type": "code",
      "source": [
        "# SAMPLE TRAIN DATA\n",
        "train_df.head(5)"
      ],
      "metadata": {
        "colab": {
          "base_uri": "https://localhost:8080/",
          "height": 206
        },
        "id": "F4EKn3gS_ozs",
        "outputId": "a17d61b0-203d-49a6-eb8c-6b32d6aec0f9"
      },
      "execution_count": 5,
      "outputs": [
        {
          "output_type": "execute_result",
          "data": {
            "text/plain": [
              "  label                                                sms\n",
              "0   ham  ahhhh...just woken up!had a bad dream about u ...\n",
              "1   ham                           you can never do nothing\n",
              "2   ham  now u sound like manky scouse boy steve,like! ...\n",
              "3   ham  mum say we wan to go then go... then she can s...\n",
              "4   ham  never y lei... i v lazy... got wat? dat day ü ..."
            ],
            "text/html": [
              "\n",
              "  <div id=\"df-53994b2a-7ff2-4c58-9cf7-d1a9457f30c7\">\n",
              "    <div class=\"colab-df-container\">\n",
              "      <div>\n",
              "<style scoped>\n",
              "    .dataframe tbody tr th:only-of-type {\n",
              "        vertical-align: middle;\n",
              "    }\n",
              "\n",
              "    .dataframe tbody tr th {\n",
              "        vertical-align: top;\n",
              "    }\n",
              "\n",
              "    .dataframe thead th {\n",
              "        text-align: right;\n",
              "    }\n",
              "</style>\n",
              "<table border=\"1\" class=\"dataframe\">\n",
              "  <thead>\n",
              "    <tr style=\"text-align: right;\">\n",
              "      <th></th>\n",
              "      <th>label</th>\n",
              "      <th>sms</th>\n",
              "    </tr>\n",
              "  </thead>\n",
              "  <tbody>\n",
              "    <tr>\n",
              "      <th>0</th>\n",
              "      <td>ham</td>\n",
              "      <td>ahhhh...just woken up!had a bad dream about u ...</td>\n",
              "    </tr>\n",
              "    <tr>\n",
              "      <th>1</th>\n",
              "      <td>ham</td>\n",
              "      <td>you can never do nothing</td>\n",
              "    </tr>\n",
              "    <tr>\n",
              "      <th>2</th>\n",
              "      <td>ham</td>\n",
              "      <td>now u sound like manky scouse boy steve,like! ...</td>\n",
              "    </tr>\n",
              "    <tr>\n",
              "      <th>3</th>\n",
              "      <td>ham</td>\n",
              "      <td>mum say we wan to go then go... then she can s...</td>\n",
              "    </tr>\n",
              "    <tr>\n",
              "      <th>4</th>\n",
              "      <td>ham</td>\n",
              "      <td>never y lei... i v lazy... got wat? dat day ü ...</td>\n",
              "    </tr>\n",
              "  </tbody>\n",
              "</table>\n",
              "</div>\n",
              "      <button class=\"colab-df-convert\" onclick=\"convertToInteractive('df-53994b2a-7ff2-4c58-9cf7-d1a9457f30c7')\"\n",
              "              title=\"Convert this dataframe to an interactive table.\"\n",
              "              style=\"display:none;\">\n",
              "        \n",
              "  <svg xmlns=\"http://www.w3.org/2000/svg\" height=\"24px\"viewBox=\"0 0 24 24\"\n",
              "       width=\"24px\">\n",
              "    <path d=\"M0 0h24v24H0V0z\" fill=\"none\"/>\n",
              "    <path d=\"M18.56 5.44l.94 2.06.94-2.06 2.06-.94-2.06-.94-.94-2.06-.94 2.06-2.06.94zm-11 1L8.5 8.5l.94-2.06 2.06-.94-2.06-.94L8.5 2.5l-.94 2.06-2.06.94zm10 10l.94 2.06.94-2.06 2.06-.94-2.06-.94-.94-2.06-.94 2.06-2.06.94z\"/><path d=\"M17.41 7.96l-1.37-1.37c-.4-.4-.92-.59-1.43-.59-.52 0-1.04.2-1.43.59L10.3 9.45l-7.72 7.72c-.78.78-.78 2.05 0 2.83L4 21.41c.39.39.9.59 1.41.59.51 0 1.02-.2 1.41-.59l7.78-7.78 2.81-2.81c.8-.78.8-2.07 0-2.86zM5.41 20L4 18.59l7.72-7.72 1.47 1.35L5.41 20z\"/>\n",
              "  </svg>\n",
              "      </button>\n",
              "      \n",
              "  <style>\n",
              "    .colab-df-container {\n",
              "      display:flex;\n",
              "      flex-wrap:wrap;\n",
              "      gap: 12px;\n",
              "    }\n",
              "\n",
              "    .colab-df-convert {\n",
              "      background-color: #E8F0FE;\n",
              "      border: none;\n",
              "      border-radius: 50%;\n",
              "      cursor: pointer;\n",
              "      display: none;\n",
              "      fill: #1967D2;\n",
              "      height: 32px;\n",
              "      padding: 0 0 0 0;\n",
              "      width: 32px;\n",
              "    }\n",
              "\n",
              "    .colab-df-convert:hover {\n",
              "      background-color: #E2EBFA;\n",
              "      box-shadow: 0px 1px 2px rgba(60, 64, 67, 0.3), 0px 1px 3px 1px rgba(60, 64, 67, 0.15);\n",
              "      fill: #174EA6;\n",
              "    }\n",
              "\n",
              "    [theme=dark] .colab-df-convert {\n",
              "      background-color: #3B4455;\n",
              "      fill: #D2E3FC;\n",
              "    }\n",
              "\n",
              "    [theme=dark] .colab-df-convert:hover {\n",
              "      background-color: #434B5C;\n",
              "      box-shadow: 0px 1px 3px 1px rgba(0, 0, 0, 0.15);\n",
              "      filter: drop-shadow(0px 1px 2px rgba(0, 0, 0, 0.3));\n",
              "      fill: #FFFFFF;\n",
              "    }\n",
              "  </style>\n",
              "\n",
              "      <script>\n",
              "        const buttonEl =\n",
              "          document.querySelector('#df-53994b2a-7ff2-4c58-9cf7-d1a9457f30c7 button.colab-df-convert');\n",
              "        buttonEl.style.display =\n",
              "          google.colab.kernel.accessAllowed ? 'block' : 'none';\n",
              "\n",
              "        async function convertToInteractive(key) {\n",
              "          const element = document.querySelector('#df-53994b2a-7ff2-4c58-9cf7-d1a9457f30c7');\n",
              "          const dataTable =\n",
              "            await google.colab.kernel.invokeFunction('convertToInteractive',\n",
              "                                                     [key], {});\n",
              "          if (!dataTable) return;\n",
              "\n",
              "          const docLinkHtml = 'Like what you see? Visit the ' +\n",
              "            '<a target=\"_blank\" href=https://colab.research.google.com/notebooks/data_table.ipynb>data table notebook</a>'\n",
              "            + ' to learn more about interactive tables.';\n",
              "          element.innerHTML = '';\n",
              "          dataTable['output_type'] = 'display_data';\n",
              "          await google.colab.output.renderOutput(dataTable, element);\n",
              "          const docLink = document.createElement('div');\n",
              "          docLink.innerHTML = docLinkHtml;\n",
              "          element.appendChild(docLink);\n",
              "        }\n",
              "      </script>\n",
              "    </div>\n",
              "  </div>\n",
              "  "
            ]
          },
          "metadata": {},
          "execution_count": 5
        }
      ]
    },
    {
      "cell_type": "code",
      "source": [
        "# SAMPLE TEST DATA\n",
        "test_df.sample(5)"
      ],
      "metadata": {
        "colab": {
          "base_uri": "https://localhost:8080/",
          "height": 206
        },
        "id": "pMezJ56n_p58",
        "outputId": "542a47ee-0c70-4f61-a28c-c0efb2149fd4"
      },
      "execution_count": 6,
      "outputs": [
        {
          "output_type": "execute_result",
          "data": {
            "text/plain": [
              "     label                                                sms\n",
              "827    ham             sorry, i'll call later  &lt;#&gt; mins\n",
              "890    ham  i wanted to ask ü to wait 4 me to finish lect....\n",
              "126    ham  looks like you found something to do other tha...\n",
              "893    ham  that would be good … i'll phone you tomo lunch...\n",
              "1183   ham  dont give a monkeys wot they think and i certa..."
            ],
            "text/html": [
              "\n",
              "  <div id=\"df-070b613c-3f6e-430d-b8ab-09dfaaf0da17\">\n",
              "    <div class=\"colab-df-container\">\n",
              "      <div>\n",
              "<style scoped>\n",
              "    .dataframe tbody tr th:only-of-type {\n",
              "        vertical-align: middle;\n",
              "    }\n",
              "\n",
              "    .dataframe tbody tr th {\n",
              "        vertical-align: top;\n",
              "    }\n",
              "\n",
              "    .dataframe thead th {\n",
              "        text-align: right;\n",
              "    }\n",
              "</style>\n",
              "<table border=\"1\" class=\"dataframe\">\n",
              "  <thead>\n",
              "    <tr style=\"text-align: right;\">\n",
              "      <th></th>\n",
              "      <th>label</th>\n",
              "      <th>sms</th>\n",
              "    </tr>\n",
              "  </thead>\n",
              "  <tbody>\n",
              "    <tr>\n",
              "      <th>827</th>\n",
              "      <td>ham</td>\n",
              "      <td>sorry, i'll call later  &amp;lt;#&amp;gt; mins</td>\n",
              "    </tr>\n",
              "    <tr>\n",
              "      <th>890</th>\n",
              "      <td>ham</td>\n",
              "      <td>i wanted to ask ü to wait 4 me to finish lect....</td>\n",
              "    </tr>\n",
              "    <tr>\n",
              "      <th>126</th>\n",
              "      <td>ham</td>\n",
              "      <td>looks like you found something to do other tha...</td>\n",
              "    </tr>\n",
              "    <tr>\n",
              "      <th>893</th>\n",
              "      <td>ham</td>\n",
              "      <td>that would be good … i'll phone you tomo lunch...</td>\n",
              "    </tr>\n",
              "    <tr>\n",
              "      <th>1183</th>\n",
              "      <td>ham</td>\n",
              "      <td>dont give a monkeys wot they think and i certa...</td>\n",
              "    </tr>\n",
              "  </tbody>\n",
              "</table>\n",
              "</div>\n",
              "      <button class=\"colab-df-convert\" onclick=\"convertToInteractive('df-070b613c-3f6e-430d-b8ab-09dfaaf0da17')\"\n",
              "              title=\"Convert this dataframe to an interactive table.\"\n",
              "              style=\"display:none;\">\n",
              "        \n",
              "  <svg xmlns=\"http://www.w3.org/2000/svg\" height=\"24px\"viewBox=\"0 0 24 24\"\n",
              "       width=\"24px\">\n",
              "    <path d=\"M0 0h24v24H0V0z\" fill=\"none\"/>\n",
              "    <path d=\"M18.56 5.44l.94 2.06.94-2.06 2.06-.94-2.06-.94-.94-2.06-.94 2.06-2.06.94zm-11 1L8.5 8.5l.94-2.06 2.06-.94-2.06-.94L8.5 2.5l-.94 2.06-2.06.94zm10 10l.94 2.06.94-2.06 2.06-.94-2.06-.94-.94-2.06-.94 2.06-2.06.94z\"/><path d=\"M17.41 7.96l-1.37-1.37c-.4-.4-.92-.59-1.43-.59-.52 0-1.04.2-1.43.59L10.3 9.45l-7.72 7.72c-.78.78-.78 2.05 0 2.83L4 21.41c.39.39.9.59 1.41.59.51 0 1.02-.2 1.41-.59l7.78-7.78 2.81-2.81c.8-.78.8-2.07 0-2.86zM5.41 20L4 18.59l7.72-7.72 1.47 1.35L5.41 20z\"/>\n",
              "  </svg>\n",
              "      </button>\n",
              "      \n",
              "  <style>\n",
              "    .colab-df-container {\n",
              "      display:flex;\n",
              "      flex-wrap:wrap;\n",
              "      gap: 12px;\n",
              "    }\n",
              "\n",
              "    .colab-df-convert {\n",
              "      background-color: #E8F0FE;\n",
              "      border: none;\n",
              "      border-radius: 50%;\n",
              "      cursor: pointer;\n",
              "      display: none;\n",
              "      fill: #1967D2;\n",
              "      height: 32px;\n",
              "      padding: 0 0 0 0;\n",
              "      width: 32px;\n",
              "    }\n",
              "\n",
              "    .colab-df-convert:hover {\n",
              "      background-color: #E2EBFA;\n",
              "      box-shadow: 0px 1px 2px rgba(60, 64, 67, 0.3), 0px 1px 3px 1px rgba(60, 64, 67, 0.15);\n",
              "      fill: #174EA6;\n",
              "    }\n",
              "\n",
              "    [theme=dark] .colab-df-convert {\n",
              "      background-color: #3B4455;\n",
              "      fill: #D2E3FC;\n",
              "    }\n",
              "\n",
              "    [theme=dark] .colab-df-convert:hover {\n",
              "      background-color: #434B5C;\n",
              "      box-shadow: 0px 1px 3px 1px rgba(0, 0, 0, 0.15);\n",
              "      filter: drop-shadow(0px 1px 2px rgba(0, 0, 0, 0.3));\n",
              "      fill: #FFFFFF;\n",
              "    }\n",
              "  </style>\n",
              "\n",
              "      <script>\n",
              "        const buttonEl =\n",
              "          document.querySelector('#df-070b613c-3f6e-430d-b8ab-09dfaaf0da17 button.colab-df-convert');\n",
              "        buttonEl.style.display =\n",
              "          google.colab.kernel.accessAllowed ? 'block' : 'none';\n",
              "\n",
              "        async function convertToInteractive(key) {\n",
              "          const element = document.querySelector('#df-070b613c-3f6e-430d-b8ab-09dfaaf0da17');\n",
              "          const dataTable =\n",
              "            await google.colab.kernel.invokeFunction('convertToInteractive',\n",
              "                                                     [key], {});\n",
              "          if (!dataTable) return;\n",
              "\n",
              "          const docLinkHtml = 'Like what you see? Visit the ' +\n",
              "            '<a target=\"_blank\" href=https://colab.research.google.com/notebooks/data_table.ipynb>data table notebook</a>'\n",
              "            + ' to learn more about interactive tables.';\n",
              "          element.innerHTML = '';\n",
              "          dataTable['output_type'] = 'display_data';\n",
              "          await google.colab.output.renderOutput(dataTable, element);\n",
              "          const docLink = document.createElement('div');\n",
              "          docLink.innerHTML = docLinkHtml;\n",
              "          element.appendChild(docLink);\n",
              "        }\n",
              "      </script>\n",
              "    </div>\n",
              "  </div>\n",
              "  "
            ]
          },
          "metadata": {},
          "execution_count": 6
        }
      ]
    },
    {
      "cell_type": "code",
      "source": [
        "# DATA PREPROCESSING\n",
        "\n",
        "# Encode labels with \"0\" for \"ham\" (non-spam) and \"1\" for \"spam\" message. Then convert to np.array for input in model\n",
        "train_labels = np.array(train_df.pop(\"label\").map({\"ham\":0,\"spam\":1}).tolist())\n",
        "test_labels = np.array(test_df.pop(\"label\").map({\"ham\":0,\"spam\":1}).tolist())\n",
        "\n",
        "\n",
        "# For counting of unique words. NOTE: Not all are actual words, this depends on sms data and some are mispelled.\n",
        "vocabulary = set()\n",
        "for message in train_df[\"sms\"].tolist():\n",
        "  for word in message.split():\n",
        "    vocabulary.add(word)  # Stores only unique values on a set\n",
        "\n",
        "VOCAB_SIZE = len(vocabulary)  # Count of unique words in the training data\n",
        "#MAX_LENGTH = len(max(train_sms, key=lambda x: len(x.split())).split())          # Max length will be equal to the longest message in the training data (171)\n",
        "MAX_LENGTH = 250\n",
        "\n",
        "\n",
        "# HASH each word in each sample into numeric (integer). One number for each unique word.\n",
        "encoded_train_message = [one_hot(d, VOCAB_SIZE) for d in train_df[\"sms\"].tolist()]\n",
        "encoded_test_message = [one_hot(d, VOCAB_SIZE) for d in test_df[\"sms\"].tolist()]\n",
        "\n",
        "\n",
        "# PAD 0's to the encoded messages to reach the MAX_LENGTH. This ensures equal length of input data for each sample\n",
        "padded_train_message = keras.utils.pad_sequences(encoded_train_message, maxlen=MAX_LENGTH, padding='post')\n",
        "padded_test_message = keras.utils.pad_sequences(encoded_test_message, maxlen=MAX_LENGTH, padding='post')"
      ],
      "metadata": {
        "id": "9G6LFB6T_p3U"
      },
      "execution_count": 7,
      "outputs": []
    },
    {
      "cell_type": "code",
      "source": [
        "# Make a model\n",
        "def make_model():\n",
        "  model = keras.Sequential()\n",
        "  model.add(keras.layers.Embedding(VOCAB_SIZE, 32, input_length = MAX_LENGTH))\n",
        "  model.add(keras.layers.Flatten())\n",
        "  model.add(keras.layers.Dense(1, activation='sigmoid'))\n",
        "  model.compile(optimizer='adam', loss='binary_crossentropy', metrics=['acc'])\n",
        "  return model\n",
        "\n",
        "\n",
        "model = make_model()\n",
        "model.summary()"
      ],
      "metadata": {
        "colab": {
          "base_uri": "https://localhost:8080/"
        },
        "id": "gySs1DND_p0s",
        "outputId": "061e1599-63b0-455d-a92d-e91205f4cf35"
      },
      "execution_count": 8,
      "outputs": [
        {
          "output_type": "stream",
          "name": "stdout",
          "text": [
            "Model: \"sequential\"\n",
            "_________________________________________________________________\n",
            " Layer (type)                Output Shape              Param #   \n",
            "=================================================================\n",
            " embedding (Embedding)       (None, 250, 32)           362560    \n",
            "                                                                 \n",
            " flatten (Flatten)           (None, 8000)              0         \n",
            "                                                                 \n",
            " dense (Dense)               (None, 1)                 8001      \n",
            "                                                                 \n",
            "=================================================================\n",
            "Total params: 370,561\n",
            "Trainable params: 370,561\n",
            "Non-trainable params: 0\n",
            "_________________________________________________________________\n"
          ]
        }
      ]
    },
    {
      "cell_type": "code",
      "source": [
        "# Train data for 25 epochs\n",
        "model.fit(padded_train_message,\n",
        "          train_labels,\n",
        "          validation_data = (padded_test_message, test_labels),\n",
        "          epochs = 25,\n",
        "          )"
      ],
      "metadata": {
        "colab": {
          "base_uri": "https://localhost:8080/"
        },
        "id": "u6KqFKaC_pyP",
        "outputId": "364923f3-bf89-41d7-8dc1-a26249f6691b"
      },
      "execution_count": 9,
      "outputs": [
        {
          "output_type": "stream",
          "name": "stdout",
          "text": [
            "Epoch 1/25\n",
            "131/131 [==============================] - 4s 19ms/step - loss: 0.3054 - acc: 0.8813 - val_loss: 0.1408 - val_acc: 0.9662\n",
            "Epoch 2/25\n",
            "131/131 [==============================] - 2s 16ms/step - loss: 0.0820 - acc: 0.9787 - val_loss: 0.0682 - val_acc: 0.9828\n",
            "Epoch 3/25\n",
            "131/131 [==============================] - 2s 15ms/step - loss: 0.0424 - acc: 0.9892 - val_loss: 0.0508 - val_acc: 0.9828\n",
            "Epoch 4/25\n",
            "131/131 [==============================] - 2s 13ms/step - loss: 0.0263 - acc: 0.9928 - val_loss: 0.0435 - val_acc: 0.9864\n",
            "Epoch 5/25\n",
            "131/131 [==============================] - 2s 12ms/step - loss: 0.0177 - acc: 0.9952 - val_loss: 0.0396 - val_acc: 0.9871\n",
            "Epoch 6/25\n",
            "131/131 [==============================] - 1s 9ms/step - loss: 0.0117 - acc: 0.9971 - val_loss: 0.0380 - val_acc: 0.9878\n",
            "Epoch 7/25\n",
            "131/131 [==============================] - 1s 8ms/step - loss: 0.0084 - acc: 0.9986 - val_loss: 0.0364 - val_acc: 0.9878\n",
            "Epoch 8/25\n",
            "131/131 [==============================] - 1s 8ms/step - loss: 0.0062 - acc: 0.9988 - val_loss: 0.0359 - val_acc: 0.9878\n",
            "Epoch 9/25\n",
            "131/131 [==============================] - 1s 9ms/step - loss: 0.0048 - acc: 0.9995 - val_loss: 0.0360 - val_acc: 0.9878\n",
            "Epoch 10/25\n",
            "131/131 [==============================] - 1s 10ms/step - loss: 0.0038 - acc: 0.9998 - val_loss: 0.0360 - val_acc: 0.9878\n",
            "Epoch 11/25\n",
            "131/131 [==============================] - 1s 9ms/step - loss: 0.0031 - acc: 0.9998 - val_loss: 0.0360 - val_acc: 0.9878\n",
            "Epoch 12/25\n",
            "131/131 [==============================] - 1s 8ms/step - loss: 0.0027 - acc: 0.9998 - val_loss: 0.0374 - val_acc: 0.9878\n",
            "Epoch 13/25\n",
            "131/131 [==============================] - 1s 9ms/step - loss: 0.0023 - acc: 0.9998 - val_loss: 0.0376 - val_acc: 0.9878\n",
            "Epoch 14/25\n",
            "131/131 [==============================] - 2s 12ms/step - loss: 0.0020 - acc: 0.9998 - val_loss: 0.0381 - val_acc: 0.9878\n",
            "Epoch 15/25\n",
            "131/131 [==============================] - 2s 12ms/step - loss: 0.0017 - acc: 0.9998 - val_loss: 0.0342 - val_acc: 0.9892\n",
            "Epoch 16/25\n",
            "131/131 [==============================] - 1s 9ms/step - loss: 0.0016 - acc: 0.9998 - val_loss: 0.0380 - val_acc: 0.9892\n",
            "Epoch 17/25\n",
            "131/131 [==============================] - 1s 9ms/step - loss: 0.0013 - acc: 0.9998 - val_loss: 0.0360 - val_acc: 0.9899\n",
            "Epoch 18/25\n",
            "131/131 [==============================] - 1s 8ms/step - loss: 0.0010 - acc: 0.9998 - val_loss: 0.0341 - val_acc: 0.9899\n",
            "Epoch 19/25\n",
            "131/131 [==============================] - 1s 8ms/step - loss: 9.5334e-04 - acc: 0.9998 - val_loss: 0.0346 - val_acc: 0.9899\n",
            "Epoch 20/25\n",
            "131/131 [==============================] - 1s 9ms/step - loss: 8.0660e-04 - acc: 0.9998 - val_loss: 0.0355 - val_acc: 0.9907\n",
            "Epoch 21/25\n",
            "131/131 [==============================] - 1s 8ms/step - loss: 6.8869e-04 - acc: 0.9998 - val_loss: 0.0373 - val_acc: 0.9899\n",
            "Epoch 22/25\n",
            "131/131 [==============================] - 1s 9ms/step - loss: 5.6532e-04 - acc: 1.0000 - val_loss: 0.0387 - val_acc: 0.9899\n",
            "Epoch 23/25\n",
            "131/131 [==============================] - 1s 9ms/step - loss: 4.5265e-04 - acc: 1.0000 - val_loss: 0.0413 - val_acc: 0.9885\n",
            "Epoch 24/25\n",
            "131/131 [==============================] - 1s 10ms/step - loss: 4.1865e-04 - acc: 1.0000 - val_loss: 0.0417 - val_acc: 0.9885\n",
            "Epoch 25/25\n",
            "131/131 [==============================] - 2s 12ms/step - loss: 3.6556e-04 - acc: 1.0000 - val_loss: 0.0368 - val_acc: 0.9899\n"
          ]
        },
        {
          "output_type": "execute_result",
          "data": {
            "text/plain": [
              "<keras.callbacks.History at 0x7f844d5d90f0>"
            ]
          },
          "metadata": {},
          "execution_count": 9
        }
      ]
    },
    {
      "cell_type": "code",
      "source": [
        "# function to predict messages based on model\n",
        "# (should return list containing prediction and label, ex. [0.008318834938108921, 'ham'])\n",
        "def predict_message(pred_text):\n",
        "\n",
        "  # ENCODE and PAD 0's to the message to the same length used in the model\n",
        "  encoded_message = [one_hot(pred_text, VOCAB_SIZE)]\n",
        "  padded_message = keras.utils.pad_sequences(encoded_message, maxlen=MAX_LENGTH, padding='post')\n",
        "\n",
        "  # Use predict to get probability of message being a spam\n",
        "  probability = model.predict(padded_message)[0][0]\n",
        "  f = lambda x: \"ham\" if x == 0 else \"spam\"\n",
        "\n",
        "  prediction = [probability, f(np.round(probability))]\n",
        "  #print(prediction)\n",
        "  return (prediction)\n",
        "\n",
        "\n",
        "pred_text = \"how are you doing today?\"\n",
        "prediction = predict_message(pred_text)\n",
        "print(prediction)"
      ],
      "metadata": {
        "colab": {
          "base_uri": "https://localhost:8080/"
        },
        "id": "RoQg-PUc_pvk",
        "outputId": "e1254fd2-f11a-41b9-8c94-7c9f630f1934"
      },
      "execution_count": 10,
      "outputs": [
        {
          "output_type": "stream",
          "name": "stdout",
          "text": [
            "1/1 [==============================] - 0s 127ms/step\n",
            "[9.28276e-05, 'ham']\n"
          ]
        }
      ]
    },
    {
      "cell_type": "code",
      "source": [
        "# Run this cell to test your function and model. Do not modify contents.\n",
        "def test_predictions():\n",
        "  test_messages = [\"how are you doing today\",\n",
        "                   \"sale today! to stop texts call 98912460324\",\n",
        "                   \"i dont want to go. can we try it a different day? available sat\",\n",
        "                   \"our new mobile video service is live. just install on your phone to start watching.\",\n",
        "                   \"you have won £1000 cash! call to claim your prize.\",\n",
        "                   \"i'll bring it tomorrow. don't forget the milk.\",\n",
        "                   \"wow, is your arm alright. that happened to me one time too\"\n",
        "                  ]\n",
        "\n",
        "  test_answers = [\"ham\", \"spam\", \"ham\", \"spam\", \"spam\", \"ham\", \"ham\"]\n",
        "  passed = True\n",
        "\n",
        "  for msg, ans in zip(test_messages, test_answers):\n",
        "    prediction = predict_message(msg)\n",
        "    if prediction[1] != ans:\n",
        "      passed = False\n",
        "\n",
        "  if passed:\n",
        "    print(\"You passed the challenge. Great job!\")\n",
        "  else:\n",
        "    print(\"You haven't passed yet. Keep trying.\")\n",
        "\n",
        "test_predictions()\n"
      ],
      "metadata": {
        "colab": {
          "base_uri": "https://localhost:8080/"
        },
        "id": "iZJ5ThGW_ptV",
        "outputId": "f5e017dd-4f15-416c-c0d4-79a1da09436f"
      },
      "execution_count": 11,
      "outputs": [
        {
          "output_type": "stream",
          "name": "stdout",
          "text": [
            "1/1 [==============================] - 0s 33ms/step\n",
            "1/1 [==============================] - 0s 32ms/step\n",
            "1/1 [==============================] - 0s 32ms/step\n",
            "1/1 [==============================] - 0s 24ms/step\n",
            "1/1 [==============================] - 0s 23ms/step\n",
            "1/1 [==============================] - 0s 24ms/step\n",
            "1/1 [==============================] - 0s 25ms/step\n",
            "You passed the challenge. Great job!\n"
          ]
        }
      ]
    }
  ]
}